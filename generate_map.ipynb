{
 "cells": [
  {
   "cell_type": "code",
   "execution_count": 17,
   "metadata": {},
   "outputs": [
    {
     "data": {
      "application/vnd.jupyter.widget-view+json": {
       "model_id": "9726aa3f8a2d4fb6ab85b7daffc96137",
       "version_major": 2,
       "version_minor": 0
      },
      "text/plain": [
       "Map(center=[43, -89], controls=(ZoomControl(options=['position', 'zoom_in_text', 'zoom_in_title', 'zoom_out_te…"
      ]
     },
     "metadata": {},
     "output_type": "display_data"
    }
   ],
   "source": [
    "import leafmap.leafmap as leafmap\n",
    "from ipyleaflet import Marker\n",
    "\n",
    "\n",
    "def draw_map(friends_address={\"Alice\":(43.07167832752132, -89.40666590224633)}):\n",
    "    m = leafmap.Map(center=(43, -89), zoom=4)\n",
    "    for i in friends_address.keys():\n",
    "        marker = Marker(location=friends_address[i], draggable=False,title=i)\n",
    "        m.add_layer(marker)\n",
    "    return m\n",
    "\n",
    "draw_map()\n"
   ]
  }
 ],
 "metadata": {
  "interpreter": {
   "hash": "02c3cf899bb3f0cbce532ed2a70c65e120c866e396e7f1de730eced567971360"
  },
  "kernelspec": {
   "display_name": "Python 3.9.12 64-bit (windows store)",
   "language": "python",
   "name": "python3"
  },
  "language_info": {
   "codemirror_mode": {
    "name": "ipython",
    "version": 3
   },
   "file_extension": ".py",
   "mimetype": "text/x-python",
   "name": "python",
   "nbconvert_exporter": "python",
   "pygments_lexer": "ipython3",
   "version": "3.9.12"
  },
  "orig_nbformat": 4
 },
 "nbformat": 4,
 "nbformat_minor": 2
}
